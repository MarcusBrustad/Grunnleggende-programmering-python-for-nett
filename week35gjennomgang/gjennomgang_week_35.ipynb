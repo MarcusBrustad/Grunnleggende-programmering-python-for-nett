{
 "cells": [
  {
   "metadata": {},
   "cell_type": "markdown",
   "source": [
    "### - `len()` teller elementer (fungerer også på strenger).  \n",
    "### - `sum()` summerer alle tall (kan også ta en startverdi).  \n",
    "### - `min()` og `max()` finner minste/største element.  \n",
    "### 👉 Poeng: vi slipper å skrive løkker selv – Python gir ferdige verktøy."
   ],
   "id": "ee68655baf196e8"
  },
  {
   "metadata": {},
   "cell_type": "code",
   "source": [
    "tall = 1\n",
    "\n",
    "nummer_liste = [3, 1, 4, 1, 5]\n",
    "# sum()\n",
    "print(sum(nummer_liste))\n",
    "# len()\n",
    "print(len(nummer_liste))\n",
    "print(len(\"Python\"))\n",
    "# min()\n",
    "print(min(nummer_liste))\n",
    "# max()\n",
    "print(max(nummer_liste))"
   ],
   "id": "a6a30cd5862e0380",
   "outputs": [],
   "execution_count": null
  },
  {
   "metadata": {},
   "cell_type": "code",
   "source": [
    "nums = [3, 1, 4, 1, 5]\n",
    "summed_nums = 0\n",
    "for i in nums:\n",
    "    summed_nums += i\n",
    "print(summed_nums)"
   ],
   "id": "129ebd3377f93759",
   "outputs": [],
   "execution_count": null
  },
  {
   "metadata": {},
   "cell_type": "markdown",
   "source": [
    "## Teori:\n",
    "### - sorted() lager en ny liste (original urørt).\n",
    "### * .sort() endrer listen på stedet.\n",
    "### * key lar oss bestemme hva vi sorterer etter (lengde, lowercase, osv.).\n",
    "### * reverse=True snur rekkefølgen.\n",
    "### 👉 Poeng: sortering = sammenligning. Med key velger vi “regelen”."
   ],
   "id": "c6a986a3f55a0013"
  },
  {
   "metadata": {},
   "cell_type": "code",
   "source": [
    "nums = [3,1,4,1,5,9,2,6,5]\n",
    "nums_sorted = sorted(nums)\n",
    "print(nums_sorted)\n",
    "nums.sort()\n",
    "print(nums)"
   ],
   "id": "a098eef982a8bef2",
   "outputs": [],
   "execution_count": null
  },
  {
   "metadata": {},
   "cell_type": "code",
   "source": [
    "word_list = ['Diaz', 'Pusur', 'Silver', 'Anne', 'Ba'] # a list with words\n",
    "word_list_sorted_len = sorted(word_list, key=len)\n",
    "word_list_sorted_alp = sorted(word_list)\n",
    "print(word_list_sorted_len)\n",
    "print(word_list_sorted_alp)\n",
    "\n",
    "word_list_lower = ['apple','Banana','Cherry']\n",
    "word_list_lower_sorted = sorted(word_list_lower, key=str.upper)\n",
    "print(word_list_lower_sorted)"
   ],
   "id": "adac45f45dbc0eca",
   "outputs": [],
   "execution_count": null
  },
  {
   "metadata": {},
   "cell_type": "code",
   "source": [
    "number_tuple = (6,2,9,1,5,3)\n",
    "number_tuple_rev = sorted(number_tuple, reverse=True)\n",
    "print(number_tuple_rev)"
   ],
   "id": "f879a596e7107943",
   "outputs": [],
   "execution_count": null
  },
  {
   "metadata": {},
   "cell_type": "code",
   "source": [
    "liste1 = [1,2,3]\n",
    "print(liste1)\n",
    "liste1[1] = 5\n",
    "print(liste1)\n",
    "\n",
    "tuple1 = (1,2,3)\n",
    "print(tuple1)\n",
    "tuple1[1] = 5\n",
    "print(tuple1)"
   ],
   "id": "5b030331b2589f7b",
   "outputs": [],
   "execution_count": null
  },
  {
   "metadata": {},
   "cell_type": "markdown",
   "source": [
    "### - Kombinerer flere lister til tupler.  \n",
    "### - Stopper når korteste liste er ferdig.  \n",
    "### - Typisk bruk: parre data (navn og alder), bygge dicts.  \n",
    "### 👉 Poeng: zip = glidelås som setter sammen elementer posisjonsvis."
   ],
   "id": "102bcbd92296f8bd"
  },
  {
   "metadata": {},
   "cell_type": "code",
   "source": [
    "letters = ['a','b','c']\n",
    "# index   [ 0 , 1 , 2 ]\n",
    "ints = [1, 2, 3]\n",
    "#index [0, 1, 2]\n",
    "combined_list = list(zip(letters, ints))\n",
    "print(combined_list)\n"
   ],
   "id": "86b5429588a22bd7",
   "outputs": [],
   "execution_count": null
  },
  {
   "metadata": {},
   "cell_type": "code",
   "source": [
    "names = ['Anna','Bob','Charlie']\n",
    "ages  = [25, 30, 35]\n",
    "combined_ages_names_dict = dict(zip(names, ages))\n",
    "print(combined_ages_names_dict)"
   ],
   "id": "f08989343557a549",
   "outputs": [],
   "execution_count": null
  },
  {
   "metadata": {},
   "cell_type": "code",
   "source": [
    "pairs = [('a',1), ('b',2), ('c',3)]\n",
    "key_tuple, value_tuple = zip(*pairs)\n",
    "print(key_tuple)\n",
    "print(value_tuple)"
   ],
   "id": "fc28bfa876fde8fa",
   "outputs": [],
   "execution_count": null
  },
  {
   "metadata": {},
   "cell_type": "markdown",
   "source": [
    "### - `filter(func, iterable)` beholder elementer hvor `func(x)` er `True`.  \n",
    "### - Krever en funksjon som returnerer True/False.  \n",
    "### - Uten `filter`: måtte skrevet løkke + if-test.  \n",
    "### 👉 Poeng: kortform for “for + if”."
   ],
   "id": "137bae571fa204cb"
  },
  {
   "metadata": {},
   "cell_type": "code",
   "source": [
    "nums = [1,2,3,4,5,6]\n",
    "even = []\n",
    "for n in nums:\n",
    "    if n % 2 == 0:\n",
    "        even.append(n)\n",
    "print(even)"
   ],
   "id": "ca879bbca2068518",
   "outputs": [],
   "execution_count": null
  },
  {
   "metadata": {},
   "cell_type": "code",
   "source": [
    "def is_even(n):\n",
    "    return n % 2 == 0\n",
    "nums1 = [1,2,3,4,5,6]\n",
    "filtered_list = list(filter(is_even, nums1))\n",
    "print(filtered_list)"
   ],
   "id": "92e79c0bf09acadd",
   "outputs": [],
   "execution_count": null
  },
  {
   "metadata": {},
   "cell_type": "code",
   "source": [
    "nums2 = [1,2,3,4,5,6]\n",
    "print(list(filter(lambda n: n % 2 == 0, nums2)))\n",
    "#filtered_lambda_list = list(filter(lambda n: n % 2 == 0, nums2))\n",
    "# print(filtered_lambda_list)"
   ],
   "id": "4477790d46dfd1fc",
   "outputs": [],
   "execution_count": null
  },
  {
   "metadata": {},
   "cell_type": "markdown",
   "source": [
    "### - `map(func, iterable)` anvender funksjonen på alle elementer.  \n",
    "### - Brukes for transformasjon: regning, konvertering, hente ut deler av tekst.  \n",
    "### 👉 Poeng: map = “gjør denne operasjonen på alle elementene”."
   ],
   "id": "ec7be87791e57f5f"
  },
  {
   "metadata": {
    "ExecuteTime": {
     "end_time": "2025-08-28T16:54:08.015529Z",
     "start_time": "2025-08-28T16:54:07.999326Z"
    }
   },
   "cell_type": "code",
   "source": [
    "nums = [1,2,3,4]\n",
    "nums_map_plus_one = list(map(lambda n: n+1, nums))\n",
    "print(nums_map_plus_one)"
   ],
   "id": "29ec4170e9a9741a",
   "outputs": [
    {
     "name": "stdout",
     "output_type": "stream",
     "text": [
      "[2, 3, 4, 5]\n"
     ]
    }
   ],
   "execution_count": 1
  },
  {
   "metadata": {
    "ExecuteTime": {
     "end_time": "2025-08-28T17:02:17.764887Z",
     "start_time": "2025-08-28T17:02:17.758879Z"
    }
   },
   "cell_type": "code",
   "source": [
    "fruits = ['apple','banana','cherry']\n",
    "print(fruits)\n",
    "\n",
    "fruits_mapped = list(map(lambda word_from_fruits_list: word_from_fruits_list[0], fruits))\n",
    "print(fruits_mapped)\n",
    "print(list(map(len, fruits)))"
   ],
   "id": "8cd59e23a6b82997",
   "outputs": [
    {
     "name": "stdout",
     "output_type": "stream",
     "text": [
      "['apple', 'banana', 'cherry']\n",
      "['a', 'b', 'c']\n",
      "[5, 6, 6]\n"
     ]
    }
   ],
   "execution_count": 10
  },
  {
   "metadata": {
    "ExecuteTime": {
     "end_time": "2025-08-28T17:01:13.473316Z",
     "start_time": "2025-08-28T17:01:13.468766Z"
    }
   },
   "cell_type": "code",
   "source": [
    "fruits = ['apple','banana','cherry']\n",
    "teksten = \"\"\n",
    "first_letter_list = []\n",
    "for w in fruits:\n",
    "    first_letter_list.append(w[0])\n",
    "    first_letter = w[0]\n",
    "    teksten += f\"{first_letter}\"\n",
    "    teksten += f\"{w[0]}\"\n",
    "print(first_letter_list)\n",
    "print(teksten)"
   ],
   "id": "2a41145ab2923238",
   "outputs": [
    {
     "name": "stdout",
     "output_type": "stream",
     "text": [
      "['a', 'b', 'c']\n",
      "abc\n"
     ]
    }
   ],
   "execution_count": 9
  },
  {
   "metadata": {},
   "cell_type": "markdown",
   "source": "",
   "id": "75a4982f72a8ea27"
  }
 ],
 "metadata": {
  "kernelspec": {
   "display_name": "Python 3",
   "language": "python",
   "name": "python3"
  },
  "language_info": {
   "codemirror_mode": {
    "name": "ipython",
    "version": 2
   },
   "file_extension": ".py",
   "mimetype": "text/x-python",
   "name": "python",
   "nbconvert_exporter": "python",
   "pygments_lexer": "ipython2",
   "version": "2.7.6"
  }
 },
 "nbformat": 4,
 "nbformat_minor": 5
}
